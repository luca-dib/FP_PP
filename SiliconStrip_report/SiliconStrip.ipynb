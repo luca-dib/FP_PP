{
 "cells": [
  {
   "cell_type": "code",
   "execution_count": null,
   "id": "be348429",
   "metadata": {},
   "outputs": [],
   "source": [
    "import numpy as np\n",
    "import matplotlib.pyplot as plt"
   ]
  },
  {
   "cell_type": "markdown",
   "id": "7c5b9182",
   "metadata": {},
   "source": [
    "# 6.2 Measurement of current-voltage characteristic"
   ]
  },
  {
   "cell_type": "code",
   "execution_count": null,
   "id": "7a66d463",
   "metadata": {},
   "outputs": [],
   "source": [
    "U, I = np.genfromtxt(\"data/IV.txt\",unpack=True)"
   ]
  },
  {
   "cell_type": "code",
   "execution_count": null,
   "id": "8d9d9a7e",
   "metadata": {},
   "outputs": [],
   "source": [
    "plt.plot(U,I)"
   ]
  },
  {
   "cell_type": "markdown",
   "id": "967a052c",
   "metadata": {},
   "source": [
    "# 6.3 Pedestals and noise"
   ]
  },
  {
   "cell_type": "markdown",
   "id": "343d4ac0",
   "metadata": {},
   "source": [
    "## a) Plot an overview of the pedestals and noise for each strip"
   ]
  },
  {
   "cell_type": "code",
   "execution_count": null,
   "id": "022eceb2",
   "metadata": {},
   "outputs": [],
   "source": [
    "# Import matrix of events and channels where axis 0 represents the channels, axis 1 the events\n",
    "ADC_ik = np.genfromtxt(\"data/Pedestal.txt\",delimiter=\";\")\n",
    "\n",
    "# Calculate pedestals (should be ~500)\n",
    "P = ADC_ik.sum(axis=1)/ADC_ik.shape[1]\n",
    "plt.plot(P)"
   ]
  },
  {
   "cell_type": "code",
   "execution_count": null,
   "id": "7fcf8786",
   "metadata": {},
   "outputs": [],
   "source": [
    "# Calculate Common Mode Shift (should be gaussian distributed around 0)\n",
    "D = (ADC_ik.T - P).T.sum(axis=0)/len(P)\n",
    "\n",
    "plt.hist(D)"
   ]
  },
  {
   "cell_type": "code",
   "execution_count": null,
   "id": "a96e5ef2",
   "metadata": {},
   "outputs": [],
   "source": [
    "# Calculate Noise per channel from ADC counts, Pedestals and CMS\n",
    "Noise = np.sqrt( (( (ADC_ik.T - P).T - D)**2).sum(axis=1) / (len(D)-1))\n",
    "plt.plot(Noise)"
   ]
  },
  {
   "cell_type": "markdown",
   "id": "11b98d27",
   "metadata": {},
   "source": [
    "## b) Graphically represent the values of the Common Mode in a meaningful way"
   ]
  },
  {
   "cell_type": "code",
   "execution_count": null,
   "id": "1e8d94b9",
   "metadata": {},
   "outputs": [],
   "source": [
    "plt.hist(D)"
   ]
  },
  {
   "cell_type": "markdown",
   "id": "554b7dc9",
   "metadata": {},
   "source": [
    "# 6.4 Calibration measurements"
   ]
  },
  {
   "cell_type": "markdown",
   "id": "62acf553",
   "metadata": {},
   "source": [
    "## a) Plot the measured values of the _Calibration Runs_ and their mean values"
   ]
  },
  {
   "cell_type": "code",
   "execution_count": null,
   "id": "07c3a962",
   "metadata": {},
   "outputs": [],
   "source": [
    "# Import all pulse charges/determined energies\n",
    "# (Also apply fix to convert commas as decimal delimiter to dots, what idiot wrote the program that saves the data like that???)\n",
    "def conv(x):\n",
    "    return x.replace(',', '.').encode()\n",
    "\n",
    "pulse_charge, counts_C20 = np.genfromtxt((conv(x) for x in open(\"data/Calib/Calib_C20.txt\")),unpack=True,skip_header=2)\n",
    "counts_C30 = np.genfromtxt((conv(x) for x in open(\"data/Calib/Calib_C30.txt\")),usecols=1,skip_header=2)\n",
    "counts_C40 = np.genfromtxt((conv(x) for x in open(\"data/Calib/Calib_C40.txt\")),usecols=1,skip_header=2)\n",
    "counts_C50 = np.genfromtxt((conv(x) for x in open(\"data/Calib/Calib_C50.txt\")),usecols=1,skip_header=2)\n",
    "counts_C60 = np.genfromtxt((conv(x) for x in open(\"data/Calib/Calib_C60.txt\")),usecols=1,skip_header=2)\n",
    "counts_0VC20 = np.genfromtxt((conv(x) for x in open(\"data/Calib/Calib_C20_0V.txt\")),usecols=1,skip_header=2)"
   ]
  },
  {
   "cell_type": "code",
   "execution_count": null,
   "id": "5ab9ec7d",
   "metadata": {},
   "outputs": [],
   "source": [
    "counts_mean = (counts_C20+counts_C30+counts_C40+counts_C50+counts_C60)/5\n",
    "\n",
    "plt.plot(pulse_charge, counts_C20,\"x\")\n",
    "plt.plot(pulse_charge, counts_C30,\".\")\n",
    "plt.plot(pulse_charge, counts_C40,\"o\")\n",
    "plt.plot(pulse_charge, counts_C50,\"v\")\n",
    "plt.plot(pulse_charge, counts_C60,\"+\")\n",
    "plt.plot(pulse_charge, counts_0VC20,\"x\")\n",
    "plt.plot(pulse_charge, counts_mean,\"b-\")\n",
    "plt.plot()"
   ]
  },
  {
   "cell_type": "markdown",
   "id": "ba846463",
   "metadata": {},
   "source": [
    "## b) Determine the dependene of the injected charge on the measured ADC values with a 4th degree polynomial"
   ]
  },
  {
   "cell_type": "code",
   "execution_count": null,
   "id": "1a3bcc25",
   "metadata": {},
   "outputs": [],
   "source": [
    "poly_par, poly_cov = np.polyfit(pulse_charge,counts_mean,4,cov=True)\n",
    "\n",
    "\n",
    "poly = np.poly1d(poly_par)\n",
    "\n",
    "x = np.linspace(0,260000,10000)\n",
    "\n",
    "plt.plot(pulse_charge,counts_mean,\".\")\n",
    "plt.plot(x,poly(x))"
   ]
  },
  {
   "cell_type": "markdown",
   "id": "8ae197cc",
   "metadata": {},
   "source": [
    "## c) Compare the curve at 0 V and above the depletion voltage"
   ]
  },
  {
   "cell_type": "code",
   "execution_count": null,
   "id": "330cd770",
   "metadata": {},
   "outputs": [],
   "source": [
    "poly_par_0V, poly_cov_0V = np.polyfit(pulse_charge,counts_0VC20,4,cov=True)\n",
    "poly_0V = np.poly1d(poly_par_0V)\n",
    "\n",
    "plt.plot(pulse_charge,counts_mean,\".\")\n",
    "plt.plot(x,poly(x))\n",
    "plt.plot(pulse_charge,counts_0VC20,\".\")\n",
    "plt.plot(x,poly_0V(x))"
   ]
  },
  {
   "cell_type": "code",
   "execution_count": null,
   "id": "76afee63",
   "metadata": {},
   "outputs": [],
   "source": []
  }
 ],
 "metadata": {
  "kernelspec": {
   "display_name": "Python 3 (ipykernel)",
   "language": "python",
   "name": "python3"
  },
  "language_info": {
   "codemirror_mode": {
    "name": "ipython",
    "version": 3
   },
   "file_extension": ".py",
   "mimetype": "text/x-python",
   "name": "python",
   "nbconvert_exporter": "python",
   "pygments_lexer": "ipython3",
   "version": "3.7.10"
  }
 },
 "nbformat": 4,
 "nbformat_minor": 5
}

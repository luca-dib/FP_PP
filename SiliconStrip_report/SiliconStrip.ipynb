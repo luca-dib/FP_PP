{
 "cells": [
  {
   "cell_type": "code",
   "execution_count": null,
   "id": "be348429",
   "metadata": {},
   "outputs": [],
   "source": [
    "import numpy as np\n",
    "import matplotlib.pyplot as plt\n",
    "from scipy.optimize import curve_fit\n",
    "import pandas as pd"
   ]
  },
  {
   "cell_type": "markdown",
   "id": "7c5b9182",
   "metadata": {},
   "source": [
    "# 6.2 Measurement of current-voltage characteristic"
   ]
  },
  {
   "cell_type": "code",
   "execution_count": null,
   "id": "7a66d463",
   "metadata": {},
   "outputs": [],
   "source": [
    "U, I = np.genfromtxt(\"data/IV.txt\",unpack=True)"
   ]
  },
  {
   "cell_type": "code",
   "execution_count": null,
   "id": "8d9d9a7e",
   "metadata": {},
   "outputs": [],
   "source": [
    "fig, ax = plt.subplots(constrained_layout=True)\n",
    "\n",
    "ax.plot(U, I, \"b-\", label=\"Current-Voltage Characteristic for reverse bias\")\n",
    "\n",
    "ax.set_xlabel(\"Bias Voltage $U / V$\")\n",
    "ax.set_ylabel(\"Leakage Current $I / \\mu A$\")\n",
    "\n",
    "ax.legend(loc=\"best\")\n",
    "ax.grid()"
   ]
  },
  {
   "cell_type": "markdown",
   "id": "967a052c",
   "metadata": {},
   "source": [
    "# 6.3 Pedestals and noise"
   ]
  },
  {
   "cell_type": "markdown",
   "id": "343d4ac0",
   "metadata": {},
   "source": [
    "## a) Plot an overview of the pedestals and noise for each strip"
   ]
  },
  {
   "cell_type": "code",
   "execution_count": null,
   "id": "022eceb2",
   "metadata": {},
   "outputs": [],
   "source": [
    "# Import matrix of events and channels where axis 0 represents the channels, axis 1 the events\n",
    "ADC_ik = np.genfromtxt(\"data/Pedestal.txt\",delimiter=\";\")\n",
    "\n",
    "# Calculate pedestals (should be ~500)\n",
    "P = ADC_ik.sum(axis=1)/ADC_ik.shape[1]\n",
    "\n",
    "fig, ax = plt.subplots(constrained_layout=True)\n",
    "\n",
    "ax.plot(P, \"b-\", label=\"Pedestals per Channel\")\n",
    "\n",
    "ax.set_xlabel(\"ADC Channel\")\n",
    "ax.set_ylabel(\"ADC Counts\")\n",
    "\n",
    "ax.legend(loc=\"best\")\n",
    "ax.grid()"
   ]
  },
  {
   "cell_type": "code",
   "execution_count": null,
   "id": "7fcf8786",
   "metadata": {},
   "outputs": [],
   "source": [
    "# Calculate Common Mode Shift (should be gaussian distributed around 0)\n",
    "D = (ADC_ik.T - P).T.sum(axis=0)/len(P)\n",
    "\n",
    "plt.hist(D)"
   ]
  },
  {
   "cell_type": "code",
   "execution_count": null,
   "id": "a96e5ef2",
   "metadata": {},
   "outputs": [],
   "source": [
    "# Calculate Noise per channel from ADC counts, Pedestals and CMS\n",
    "Noise = np.sqrt( (( (ADC_ik.T - P).T - D)**2).sum(axis=1) / (len(D)-1))\n",
    "\n",
    "fig, ax = plt.subplots(constrained_layout=True)\n",
    "\n",
    "plt.plot(Noise, \"b-\", label=\"Noise per channel\")\n",
    "\n",
    "ax.set_xlabel(\"ADC Channel\")\n",
    "ax.set_ylabel(\"Noise\")\n",
    "\n",
    "ax.legend(loc=\"best\")\n",
    "ax.grid()"
   ]
  },
  {
   "cell_type": "markdown",
   "id": "11b98d27",
   "metadata": {},
   "source": [
    "## b) Graphically represent the values of the Common Mode in a meaningful way"
   ]
  },
  {
   "cell_type": "code",
   "execution_count": null,
   "id": "1e8d94b9",
   "metadata": {},
   "outputs": [],
   "source": [
    "bins_D = np.linspace(-7.5,7.5,16)\n",
    "\n",
    "fig, ax = plt.subplots(constrained_layout=True)\n",
    "\n",
    "plt.hist(D,bins=bins_D,label=\"Distribution of Common Mode Shift\")\n",
    "\n",
    "ax.set_xlabel(\"Common Mode Shift $D$\")\n",
    "ax.set_ylabel(\"Counts\")\n",
    "\n",
    "ax.legend(loc=\"best\")"
   ]
  },
  {
   "cell_type": "markdown",
   "id": "554b7dc9",
   "metadata": {},
   "source": [
    "# 6.4 Calibration measurements"
   ]
  },
  {
   "cell_type": "markdown",
   "id": "62acf553",
   "metadata": {},
   "source": [
    "## a) Plot the measured values of the _Calibration Runs_ and their mean values"
   ]
  },
  {
   "cell_type": "code",
   "execution_count": null,
   "id": "07c3a962",
   "metadata": {},
   "outputs": [],
   "source": [
    "# Import all pulse charges/determined energies\n",
    "# (Also apply fix to convert commas as decimal delimiter to dots, what idiot wrote the program that saves the data like that???)\n",
    "def conv(x):\n",
    "    return x.replace(',', '.').encode()\n",
    "\n",
    "pulse_charge, counts_C20 = np.genfromtxt((conv(x) for x in open(\"data/Calib/Calib_C20.txt\")),unpack=True,skip_header=2)\n",
    "counts_C30 = np.genfromtxt((conv(x) for x in open(\"data/Calib/Calib_C30.txt\")),usecols=1,skip_header=2)\n",
    "counts_C40 = np.genfromtxt((conv(x) for x in open(\"data/Calib/Calib_C40.txt\")),usecols=1,skip_header=2)\n",
    "counts_C50 = np.genfromtxt((conv(x) for x in open(\"data/Calib/Calib_C50.txt\")),usecols=1,skip_header=2)\n",
    "counts_C60 = np.genfromtxt((conv(x) for x in open(\"data/Calib/Calib_C60.txt\")),usecols=1,skip_header=2)\n",
    "counts_0VC20 = np.genfromtxt((conv(x) for x in open(\"data/Calib/Calib_C20_0V.txt\")),usecols=1,skip_header=2)"
   ]
  },
  {
   "cell_type": "code",
   "execution_count": null,
   "id": "5ab9ec7d",
   "metadata": {},
   "outputs": [],
   "source": [
    "counts_mean = (counts_C20+counts_C30+counts_C40+counts_C50+counts_C60)/5\n",
    "\n",
    "plt.plot(counts_C20, pulse_charge, \"x\")\n",
    "plt.plot(counts_C30, pulse_charge, \".\")\n",
    "plt.plot(counts_C40, pulse_charge, \"o\")\n",
    "plt.plot(counts_C50, pulse_charge, \"v\")\n",
    "plt.plot(counts_C60, pulse_charge, \"+\")\n",
    "plt.plot(counts_0VC20, pulse_charge, \"x\")\n",
    "plt.plot(counts_mean, pulse_charge, \"b-\")\n",
    "plt.plot()"
   ]
  },
  {
   "cell_type": "markdown",
   "id": "ba846463",
   "metadata": {},
   "source": [
    "## b) Determine the dependene of the injected charge on the measured ADC values with a 4th degree polynomial"
   ]
  },
  {
   "cell_type": "code",
   "execution_count": null,
   "id": "1a3bcc25",
   "metadata": {},
   "outputs": [],
   "source": [
    "pulse_energy = 3.6*pulse_charge/1000\n",
    "poly_par, poly_cov = np.polyfit(counts_mean[pulse_charge<50000],pulse_energy[pulse_charge<50000],4,cov=True)\n",
    "\n",
    "\n",
    "poly = np.poly1d(poly_par)\n",
    "\n",
    "x = np.linspace(0,270,10000)\n",
    "\n",
    "\n",
    "fig, ax = plt.subplots(constrained_layout=True)\n",
    "\n",
    "ax.plot(counts_mean,pulse_energy, \"b-\", label=\"Injected pulse energy for measured ADC counts\")\n",
    "ax.plot(x,poly(x), \"r-\", label=\"Polynomial fit (4th degree)\")\n",
    "\n",
    "ax.set_xlabel(\"ADC Counts\")\n",
    "ax.set_ylabel(\"Energy of injected Charge $E / keV$\")\n",
    "\n",
    "ax.legend(loc=\"best\")\n",
    "ax.grid()"
   ]
  },
  {
   "cell_type": "markdown",
   "id": "8ae197cc",
   "metadata": {},
   "source": [
    "## c) Compare the curve at 0 V and above the depletion voltage"
   ]
  },
  {
   "cell_type": "code",
   "execution_count": null,
   "id": "330cd770",
   "metadata": {},
   "outputs": [],
   "source": [
    "poly_par_0V, poly_cov_0V = np.polyfit(pulse_charge,counts_0VC20,4,cov=True)\n",
    "poly_0V = np.poly1d(poly_par_0V)\n",
    "\n",
    "plt.plot(pulse_charge,counts_mean,\".\")\n",
    "plt.plot(x,poly(x))\n",
    "plt.plot(pulse_charge,counts_0VC20,\".\")\n",
    "plt.plot(x,poly_0V(x))"
   ]
  },
  {
   "cell_type": "markdown",
   "id": "9f3932f4",
   "metadata": {},
   "source": [
    "# 6.5 Measuring the strip sensors by using a laser"
   ]
  },
  {
   "cell_type": "markdown",
   "id": "357d3fac",
   "metadata": {},
   "source": [
    "## c) Plot the signal of the relevant strips as a function of the laser position. Determine from this the _pitch_ of the strips, the extension of the laser on it and note the strip numbers"
   ]
  },
  {
   "cell_type": "code",
   "execution_count": null,
   "id": "ccc24db5",
   "metadata": {},
   "outputs": [],
   "source": [
    "A = np.genfromtxt(\"data/Laserscan.txt\")\n",
    "A.shape"
   ]
  },
  {
   "cell_type": "code",
   "execution_count": null,
   "id": "3105b041",
   "metadata": {},
   "outputs": [],
   "source": [
    "plt.matshow(A)\n",
    "plt.colorbar()\n",
    "strip_no = np.argwhere(A.sum(axis=0)>150)"
   ]
  },
  {
   "cell_type": "code",
   "execution_count": null,
   "id": "2cc2198e",
   "metadata": {},
   "outputs": [],
   "source": [
    "x_laser = np.arange(0,350,10)\n",
    "C_laser = A.sum(axis=1)\n",
    "max_tot = C_laser>175\n",
    "d_strip = np.diff(x_laser[max_tot]).mean()\n",
    "\n",
    "plt.plot(x_laser, C_laser)\n",
    "plt.plot(x_laser, C_laser,\".\")\n",
    "plt.plot(x_laser[max_tot],C_laser[max_tot],\"x\")\n",
    "d_strip"
   ]
  },
  {
   "cell_type": "code",
   "execution_count": null,
   "id": "053b9418",
   "metadata": {},
   "outputs": [],
   "source": [
    "C_laser_s = A[:,strip_no]\n",
    "\n",
    "markers = [\"-\",\"--\",\"-.\",\":\"]\n",
    "\n",
    "for i in range(4):\n",
    "    plt.plot(x_laser,C_laser_s[:,i],markers[i])"
   ]
  },
  {
   "cell_type": "markdown",
   "id": "2d82d445",
   "metadata": {},
   "source": [
    "# 6.6 Determination of the Charge Colelction Efficiency"
   ]
  },
  {
   "cell_type": "markdown",
   "id": "d5b0b0ec",
   "metadata": {},
   "source": [
    "## Using a laser"
   ]
  },
  {
   "cell_type": "markdown",
   "id": "6ca559d6",
   "metadata": {},
   "source": [
    "### a) Investigate the efficiency of the detector as a function of the applied voltage by measuring one of the maxima from task 6.5 at different bias voltages with the laser in focus. Compare the beginning of the pleateau with the depletion voltage determined in task 6.2"
   ]
  },
  {
   "cell_type": "code",
   "execution_count": null,
   "id": "10c9cc2f",
   "metadata": {},
   "outputs": [],
   "source": [
    "CCEL = np.empty((128,21))\n",
    "for i in range(21):\n",
    "    CCEL[:,i] = np.genfromtxt(f\"data/CCEL/{i*10}VCCEL.txt\")"
   ]
  },
  {
   "cell_type": "code",
   "execution_count": null,
   "id": "59510131",
   "metadata": {},
   "outputs": [],
   "source": [
    "CCEL_mean = CCEL[76:78].mean(axis=0)\n",
    "plt.plot(U,CCEL[77])\n",
    "plt.plot(U,100*I/np.amax(I))"
   ]
  },
  {
   "cell_type": "code",
   "execution_count": null,
   "id": "1c894bbb",
   "metadata": {},
   "outputs": [],
   "source": [
    "def dc(U):\n",
    "    d_c = np.empty(len(U))\n",
    "    for i in range(len(U)):\n",
    "        if U[i] < U_dep:\n",
    "            d_c[i] = D * np.sqrt(U[i]/U_dep)\n",
    "        else:\n",
    "            d_c[i] = D\n",
    "    return d_c\n",
    "\n",
    "def CCE_U(U,a,b):\n",
    "    CCE_U = (1 - np.exp(-dc(U+b)/a)) / (1 - np.exp(-D/a))\n",
    "    \n",
    "    return CCE_U\n",
    "\n",
    "U_dep = 70\n",
    "D = 300e-6\n",
    "\n",
    "CCEL_par, CCEL_cov = curve_fit(CCE_U, U[U<U_dep], CCEL_mean[U<U_dep]/100, p0=[1e-5,1])\n",
    "print(CCEL_par)"
   ]
  },
  {
   "cell_type": "code",
   "execution_count": null,
   "id": "00225ee2",
   "metadata": {},
   "outputs": [],
   "source": [
    "U_fit = np.linspace(0,200,100)\n",
    "plt.plot(U_fit, CCE_U(U_fit,*CCEL_par)*100)\n",
    "plt.plot(U[U<U_dep],CCEL_mean[U<U_dep])"
   ]
  },
  {
   "cell_type": "markdown",
   "id": "68206771",
   "metadata": {},
   "source": [
    "## Using a $\\beta^-$-source"
   ]
  },
  {
   "cell_type": "markdown",
   "id": "0a32abe6",
   "metadata": {},
   "source": [
    "### a) Plot the mean cluster energy as a function of the applied voltage\n",
    "\n",
    "### b) Compare the results between the CCE measurement with a laser and the source. Why do they differ?"
   ]
  },
  {
   "cell_type": "code",
   "execution_count": null,
   "id": "8a3623f2",
   "metadata": {},
   "outputs": [],
   "source": [
    "names = [f\"c{i}\" for i in range(13)]\n",
    "names2 = [f\"{i*10}V\" for i in range(21)]\n",
    "\n",
    "df_CCEQ = pd.concat([pd.read_csv(f\"data/CCEQ/{i*10}V_Cluster_adc_entries.txt\",delimiter=\"\\t\",names=names).fillna(0).sum(axis=1) for i in range(21)],axis=1,ignore_index=True,names=names2).fillna(0)\n",
    "df_CCEQ"
   ]
  },
  {
   "cell_type": "code",
   "execution_count": null,
   "id": "be7c5a8f",
   "metadata": {},
   "outputs": [],
   "source": [
    "CCEQ = df_CCEQ.to_numpy().T\n",
    "CCEQ_mean = CCEQ.mean(axis=1)\n",
    "plt.plot(U,CCEQ_mean)\n",
    "plt.plot(U,CCEL_mean)"
   ]
  },
  {
   "cell_type": "markdown",
   "id": "ef65fa08",
   "metadata": {},
   "source": [
    "# 6.7 Large source scan"
   ]
  },
  {
   "cell_type": "markdown",
   "id": "a3a5b370",
   "metadata": {},
   "source": [
    "## a) Represent the clusters per event and the channels per cluster in a meaningful way."
   ]
  },
  {
   "cell_type": "code",
   "execution_count": null,
   "id": "371db07a",
   "metadata": {},
   "outputs": [],
   "source": [
    "no_clusters = np.genfromtxt(\"data/number_of_clusters.txt\")\n",
    "size_clusters = np.genfromtxt(\"data/cluster_size.txt\")\n",
    "\n",
    "channels = np.arange(0.5,129.5,1)\n",
    "\n",
    "fig, ax = plt.subplots(constrained_layout=True)\n",
    "\n",
    "ax.stairs(no_clusters, channels, label=\"Clusters per Event\")\n",
    "ax.stairs(size_clusters, channels, label=\"Channels per cluster\")\n",
    "\n",
    "ax.set_xlabel(\"# of clusters per event or channels per cluster\")\n",
    "ax.set_ylabel(\"Counts\")\n",
    "\n",
    "ax.set_yscale(\"symlog\")\n",
    "ax.set_xlim((-1,20))\n",
    "\n",
    "ax.legend(loc=\"best\")\n",
    "ax.grid()"
   ]
  },
  {
   "cell_type": "markdown",
   "id": "08423ce5",
   "metadata": {},
   "source": [
    "## b) Display the number of events per channel"
   ]
  },
  {
   "cell_type": "code",
   "execution_count": null,
   "id": "01abd1d6",
   "metadata": {},
   "outputs": [],
   "source": [
    "hitmap = np.genfromtxt(\"data/hitmap.txt\")\n",
    "\n",
    "\n",
    "fig, ax = plt.subplots(constrained_layout=True)\n",
    "\n",
    "ax.stairs(hitmap,channels,label=\"Hitmap of events per ADC channel\")\n",
    "\n",
    "ax.set_xlabel(\"ADC Channel\")\n",
    "ax.set_ylabel(\"Counts\")\n",
    "\n",
    "ax.legend(loc=\"lower right\")\n",
    "ax.grid()"
   ]
  },
  {
   "cell_type": "markdown",
   "id": "5e599abb",
   "metadata": {},
   "source": [
    "## c) Plot the energy spectrum in ADC values and in keV"
   ]
  },
  {
   "cell_type": "code",
   "execution_count": null,
   "id": "80e3c26f",
   "metadata": {},
   "outputs": [],
   "source": [
    "C_ADC = np.genfromtxt(\"data/cluster_ADCs.txt\")"
   ]
  },
  {
   "cell_type": "code",
   "execution_count": null,
   "id": "d6d021f8",
   "metadata": {},
   "outputs": [],
   "source": [
    "fig, ax = plt.subplots(constrained_layout=True)\n",
    "\n",
    "ax.hist(C_ADC,bins=20, label=\"Spectrum of ADC values for source scan\")\n",
    "ax.set_yscale(\"log\")\n",
    "\n",
    "ax.set_xlabel(\"ADC Values\")\n",
    "ax.set_ylabel(\"Counts\")\n",
    "\n",
    "ax.legend(loc=\"best\")\n",
    "ax.grid()"
   ]
  },
  {
   "cell_type": "code",
   "execution_count": null,
   "id": "c9f18ddb",
   "metadata": {},
   "outputs": [],
   "source": [
    "C_E = poly(C_ADC)\n",
    "\n",
    "logx = np.logspace(np.log10(np.amin(C_E)),np.log10(np.amax(C_E)+1),51)\n",
    "\n",
    "hist_E, bins_E = np.histogram(C_E,bins=logx)\n",
    "\n",
    "E_mean = C_E.mean()\n",
    "E_MPV = (bins_E[np.argmax(hist_E)+1] + bins_E[np.argmax(hist_E)])/2\n",
    "\n",
    "\n",
    "fig, ax = plt.subplots(constrained_layout=True)\n",
    "\n",
    "ax.stairs(hist_E, bins_E, label=\"Energy spectrum for source scan\")\n",
    "ax.axvline(E_mean, color=\"r\", linestyle=\"--\", label=\"Mean energy value\")\n",
    "ax.axvline(E_MPV, color=\"g\", linestyle=\"--\", label=\"Most probable energy value\")\n",
    "\n",
    "ax.set_xlabel(\"Energy $E/keV$\")\n",
    "ax.set_ylabel(\"Counts\")\n",
    "ax.set_xscale(\"log\")\n",
    "\n",
    "ax.legend(loc=\"best\")\n",
    "ax.grid()\n",
    "print(E_mean, E_MPV)"
   ]
  },
  {
   "cell_type": "code",
   "execution_count": null,
   "id": "2edf1c2d",
   "metadata": {},
   "outputs": [],
   "source": []
  }
 ],
 "metadata": {
  "kernelspec": {
   "display_name": "Python 3 (ipykernel)",
   "language": "python",
   "name": "python3"
  },
  "language_info": {
   "codemirror_mode": {
    "name": "ipython",
    "version": 3
   },
   "file_extension": ".py",
   "mimetype": "text/x-python",
   "name": "python",
   "nbconvert_exporter": "python",
   "pygments_lexer": "ipython3",
   "version": "3.7.10"
  }
 },
 "nbformat": 4,
 "nbformat_minor": 5
}

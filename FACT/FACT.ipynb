{
 "cells": [
  {
   "cell_type": "code",
   "execution_count": null,
   "id": "6d9937e5",
   "metadata": {},
   "outputs": [],
   "source": [
    "from fact.io import read_h5py\n",
    "import numpy as np\n",
    "import pandas as pd\n",
    "import matplotlib.pyplot as plt"
   ]
  },
  {
   "cell_type": "code",
   "execution_count": null,
   "id": "6547fc2e",
   "metadata": {},
   "outputs": [],
   "source": [
    "test = read_h5py(\"data/gamma_test_dl3.hdf5\", key=\"events\")\n",
    "crab = read_h5py(\"data/open_crab_sample_dl3.hdf5\", key=\"events\")\n",
    "\n",
    "gamma_test = test[\"gamma_prediction\"] >= 0.8\n",
    "gamma_crab = crab[\"gamma_prediction\"] >= 0.8\n",
    "\n",
    "theta2_s = crab[\"theta_deg\"][gamma_crab].to_numpy()**2\n",
    "theta2_bg = crab[[\"theta_deg_off_1\",\"theta_deg_off_2\",\"theta_deg_off_3\",\"theta_deg_off_4\",\"theta_deg_off_5\"]][gamma_crab].to_numpy().flatten()**2\n",
    "print(theta2_bg)"
   ]
  },
  {
   "cell_type": "code",
   "execution_count": null,
   "id": "18987f36",
   "metadata": {},
   "outputs": [],
   "source": [
    "hist_s = np.histogram(theta2_s[theta2_s<=0.025], bins=20)\n",
    "hist_bg = np.histogram(theta2_bg[theta2_bg<=0.025], bins=20)\n",
    "print(hist_s)\n",
    "\n",
    "fig, ax = plt.subplots(constrained_layout=True)\n",
    "\n",
    "#ax.bar(hist_s[1][:-1],hist_s[0])\n",
    "#ax.bar(hist_bg[1][:-1],hist_bg[0]/5)\n",
    "\n",
    "ax.hist(theta2_s[theta2_s<=0.025], bins=20, histtype=\"step\")\n",
    "ax.hist(theta2_bg[theta2_bg<=0.025], bins=20, histtype=\"step\")\n",
    "\n",
    "\n",
    "plt.show()"
   ]
  },
  {
   "cell_type": "code",
   "execution_count": null,
   "id": "04eabf51",
   "metadata": {},
   "outputs": [],
   "source": [
    "N_on = len(theta2_s[theta2_s<=0.025])\n",
    "N_off = len(theta2_bg[theta2_bg<=0.025])\n",
    "print(N_on,N_off)\n",
    "\n",
    "alpha = 0.2\n",
    "\n",
    "S = np.sqrt(2) * np.sqrt(N_on * np.log( (1+alpha)/alpha * N_on/(N_on + N_off)) + N_off * np.log((1+alpha) * N_off/(N_on + N_off)))\n",
    "S"
   ]
  },
  {
   "cell_type": "code",
   "execution_count": null,
   "id": "21bbc0bd",
   "metadata": {},
   "outputs": [],
   "source": [
    "E_true = test[\"corsika_event_header_total_energy\"][gamma_test].to_numpy()\n",
    "E_pred = test[\"gamma_energy_prediction\"][gamma_test].to_numpy()\n",
    "\n",
    "hist_E_true, bins_E_true = np.histogram(E_true, np.logspace(2.7,4.2,20))\n",
    "hist_E_pred, bins_E_pred = np.histogram(E_pred, np.logspace(2.7,4.2,30))\n",
    "print(hist_E_true,hist_E_pred)\n"
   ]
  },
  {
   "cell_type": "code",
   "execution_count": null,
   "id": "8ad6260e",
   "metadata": {},
   "outputs": [],
   "source": [
    "A = np.outer(1/hist_E_true,hist_E_pred)\n",
    "g = hist_E_true@A\n",
    "\n",
    "fig, ax = plt.subplots(constrained_layout=True)\n",
    "\n",
    "ax.stairs(hist_E_true,bins_E_true,label=\"True\")\n",
    "ax.stairs(hist_E_pred,bins_E_pred,label=\"Predicted\")\n",
    "ax.stairs(g/19,bins_E_pred,label=\"with A\")\n",
    "\n",
    "ax.set_xscale(\"log\")\n",
    "ax.legend(loc=\"best\")\n",
    "\n",
    "plt.show()"
   ]
  },
  {
   "cell_type": "code",
   "execution_count": null,
   "id": "fe078c20",
   "metadata": {},
   "outputs": [],
   "source": [
    "A = np.outer(hist_E_pred, 1/hist_E_true)\n",
    "g = A@hist_E_true\n",
    "print(np.isclose(g/19,hist_E_pred))\n"
   ]
  },
  {
   "cell_type": "code",
   "execution_count": null,
   "id": "e6c50f4f",
   "metadata": {},
   "outputs": [],
   "source": []
  }
 ],
 "metadata": {
  "kernelspec": {
   "display_name": "Python 3 (ipykernel)",
   "language": "python",
   "name": "python3"
  },
  "language_info": {
   "codemirror_mode": {
    "name": "ipython",
    "version": 3
   },
   "file_extension": ".py",
   "mimetype": "text/x-python",
   "name": "python",
   "nbconvert_exporter": "python",
   "pygments_lexer": "ipython3",
   "version": "3.7.10"
  }
 },
 "nbformat": 4,
 "nbformat_minor": 5
}

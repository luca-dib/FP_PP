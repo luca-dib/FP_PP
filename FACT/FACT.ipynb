{
 "cells": [
  {
   "cell_type": "code",
   "execution_count": null,
   "id": "6d9937e5",
   "metadata": {},
   "outputs": [],
   "source": [
    "from fact.io import read_h5py\n",
    "import numpy as np\n",
    "import pandas as pd\n",
    "import matplotlib.pyplot as plt\n",
    "from scipy.optimize import minimize"
   ]
  },
  {
   "cell_type": "code",
   "execution_count": null,
   "id": "6547fc2e",
   "metadata": {},
   "outputs": [],
   "source": [
    "test = read_h5py(\"data/gamma_test_dl3.hdf5\", key=\"events\")\n",
    "crab = read_h5py(\"data/open_crab_sample_dl3.hdf5\", key=\"events\")\n",
    "crab_runs = read_h5py(\"data/open_crab_sample_dl3.hdf5\", key=\"runs\")\n",
    "\n",
    "gamma_test = test[\"gamma_prediction\"] >= 0.8\n",
    "gamma_crab = crab[\"gamma_prediction\"] >= 0.8"
   ]
  },
  {
   "cell_type": "code",
   "execution_count": null,
   "id": "9a448211",
   "metadata": {},
   "outputs": [],
   "source": [
    "# Import and square angle theta of on- and off-positions from dataframe (all off positions flattened to one array)\n",
    "theta2_s = crab[\"theta_deg\"][gamma_crab].to_numpy()**2\n",
    "theta2_bg = crab[[\"theta_deg_off_1\",\"theta_deg_off_2\",\"theta_deg_off_3\",\"theta_deg_off_4\",\"theta_deg_off_5\"]][gamma_crab].to_numpy().flatten()**2\n",
    "\n",
    "# Create histograms for on- and off-positions \n",
    "hist_s, bins_s = np.histogram(theta2_s[theta2_s<=np.sqrt(0.025)], bins=20)\n",
    "hist_bg, bins_bg = np.histogram(theta2_bg[theta2_bg<=np.sqrt(0.025)], bins=20)"
   ]
  },
  {
   "cell_type": "code",
   "execution_count": null,
   "id": "18987f36",
   "metadata": {},
   "outputs": [],
   "source": [
    "fig, ax = plt.subplots(constrained_layout=True)\n",
    "\n",
    "ax.stairs(hist_s,bins_s)\n",
    "ax.stairs(hist_bg/5,bins_bg) # divided by 5 due to 5 off positions -> average over off-positions\n",
    "\n",
    "plt.show()"
   ]
  },
  {
   "cell_type": "code",
   "execution_count": null,
   "id": "04eabf51",
   "metadata": {},
   "outputs": [],
   "source": [
    "# Calculate Number of On- and Off-Events for theta^2 cut of 0.025 \n",
    "N_on = len(theta2_s[theta2_s<=np.sqrt(0.025)])\n",
    "N_off = len(theta2_bg[theta2_bg<=np.sqrt(0.025)])\n",
    "\n",
    "# Alpha is size-factor of on- to off-region\n",
    "alpha = 0.2\n",
    "\n",
    "# Calculate significance with Likelihood-Ratio-Test due to Li & Ma\n",
    "S = np.sqrt(2) * np.sqrt(N_on * np.log( (1+alpha)/alpha * N_on/(N_on + N_off)) + N_off * np.log((1+alpha) * N_off/(N_on + N_off)))\n",
    "print(S)"
   ]
  },
  {
   "cell_type": "code",
   "execution_count": null,
   "id": "21bbc0bd",
   "metadata": {},
   "outputs": [],
   "source": [
    "# Import measured and true energies of events from dataframe\n",
    "E_true = test[\"corsika_event_header_total_energy\"][gamma_test].to_numpy()\n",
    "E_pred = test[\"gamma_energy_prediction\"][gamma_test].to_numpy()\n",
    "\n",
    "# Create logarithmic bin edges for histograms\n",
    "bins_true=np.logspace(np.log10(600),np.log10(15000),6)\n",
    "bins_pred=np.logspace(np.log10(600),np.log10(15000),11)\n",
    "\n",
    "# Add under-/overflow bins\n",
    "bins_true = np.append(0,bins_true)\n",
    "bins_true = np.append(bins_true,np.inf)\n",
    "bins_pred = np.append(0,bins_pred)\n",
    "bins_pred = np.append(bins_pred,np.inf)\n",
    "\n",
    "# Create histograms of measured and true data\n",
    "hist_E_true, bins_E_true = np.histogram(E_true, bins_true)\n",
    "hist_E_pred, bins_E_pred = np.histogram(E_pred, bins_pred)"
   ]
  },
  {
   "cell_type": "code",
   "execution_count": null,
   "id": "8ad6260e",
   "metadata": {},
   "outputs": [],
   "source": [
    "# Calculate energy migration matrix as 2D-histogram of measured and true data\n",
    "A, _, _ = np.histogram2d(E_pred, E_true, bins=[bins_pred, bins_true])\n",
    "\n",
    "# Normalize A\n",
    "A = A/np.sum(A,axis=0)\n",
    "print(np.sum(A,axis=0)) # Check if normalized: should all be 1\n",
    "\n",
    "# Check if forward folding with A gives the same histogram as measured data (hist_E_pred)\n",
    "g = A@hist_E_true\n",
    "\n",
    "# Naive SVD Unfolding\n",
    "A_inv = np.linalg.pinv(A,rcond=0)\n",
    "\n",
    "f = A_inv@hist_E_pred\n",
    "\n",
    "# Log-Likelihood Unfolding\n",
    "def loglikelihood(f,g):\n",
    "    for i in range(len(f)):\n",
    "        L_poisson = -g * np.log((A@f)) + (A@f)\n",
    "    L_poisson = np.sum(L_poisson)\n",
    "    return L_poisson\n",
    "\n",
    "min_l_test = minimize(loglikelihood,f,args=(g),method=\"Nelder-Mead\",tol=1e-8)"
   ]
  },
  {
   "cell_type": "code",
   "execution_count": null,
   "id": "025641b8",
   "metadata": {},
   "outputs": [],
   "source": [
    "plt.matshow(A)\n",
    "plt.matshow(A_inv)\n",
    "\n",
    "fig, ax = plt.subplots(constrained_layout=True)\n",
    "\n",
    "ax.stairs(hist_E_true,bins_E_true,label=\"True\")\n",
    "ax.stairs(hist_E_pred,bins_E_pred,label=\"Predicted\")\n",
    "ax.stairs(g,bins_E_pred,linestyle=\"--\",label=\"Forward Folding with calculated A\")\n",
    "ax.stairs(f,bins_E_true,linestyle=\"--\",label=\"Naive SVD Unfolded\")\n",
    "ax.stairs(min_l_test.x,bins_E_true,linestyle=\"--\",label=\"log-likelihood Unfolded\")\n",
    "\n",
    "ax.set_xscale(\"log\")\n",
    "ax.legend(loc=\"best\")\n",
    "\n",
    "plt.show()"
   ]
  },
  {
   "cell_type": "code",
   "execution_count": null,
   "id": "748798da",
   "metadata": {},
   "outputs": [],
   "source": [
    "# Get Crab Nebula measured Energies\n",
    "E_crab = crab[\"gamma_energy_prediction\"][gamma_crab].to_numpy()\n",
    "\n",
    "# Make energy histogram\n",
    "g_crab, bins_E_crab = np.histogram(E_crab, bins_pred)\n",
    "\n",
    "# Naive SVD Unfolding\n",
    "f_crab = A_inv@g_crab\n",
    "\n",
    "# Poisson Likelihood Unfolding\n",
    "min_l = minimize(loglikelihood,f_crab,args=(g_crab),method=\"Nelder-Mead\",tol=1e-8)\n",
    "f_like = min_l.x"
   ]
  },
  {
   "cell_type": "code",
   "execution_count": null,
   "id": "cb164d18",
   "metadata": {},
   "outputs": [],
   "source": [
    "fig, ax = plt.subplots(constrained_layout=True)\n",
    "\n",
    "ax.stairs(g_crab,bins_E_crab,label=\"Measured\")\n",
    "ax.stairs(f_crab,bins_E_true,label=\"SVD Unfolded\")\n",
    "ax.stairs(f_like,bins_E_true,label=\"Poisson-likelihood Unfolded\")\n",
    "\n",
    "ax.set_xscale(\"log\")\n",
    "ax.legend(loc=\"best\")\n",
    "\n",
    "plt.show()"
   ]
  },
  {
   "cell_type": "code",
   "execution_count": null,
   "id": "acf06ca6",
   "metadata": {},
   "outputs": [],
   "source": [
    "A = np.pi*270**2\n",
    "N_sel, _ = np.histogram(E_pred,bins_true)\n",
    "N_sim = hist_E_true\n",
    "A_eff = N_sel/(N_sim/0.7) * A\n",
    "print(A,N_sel/(N_sim/0.7))"
   ]
  },
  {
   "cell_type": "code",
   "execution_count": null,
   "id": "a5b4aee3",
   "metadata": {},
   "outputs": [],
   "source": [
    "# Import observation time, since it is roughly the same overall, take mean\n",
    "t_obs = crab_runs[\"ontime\"][gamma_crab].to_numpy()\n",
    "t_obs = t_obs.mean()\n",
    "\n",
    "# Calculate width of energy bins\n",
    "dE = np.diff(bins_E_true)\n",
    "print(dE)\n",
    "\n",
    "# Calculate flux for unfolded event counts with SVD and Poisson-likelihood method\n",
    "phi_crab = f_crab / (A_eff * dE * t_obs)\n",
    "phi_like = f_like / (A_eff * dE * t_obs)\n",
    "print(phi_crab, phi_like)"
   ]
  },
  {
   "cell_type": "code",
   "execution_count": null,
   "id": "c1b307ab",
   "metadata": {},
   "outputs": [],
   "source": [
    "fig, ax = plt.subplots(constrained_layout=True)\n",
    "\n",
    "ax.stairs(phi_crab,bins_E_true,label=\"SVD Unfolded\")\n",
    "ax.stairs(phi_like,bins_E_true,label=\"Poisson-likelihood Unfolded\")\n",
    "\n",
    "ax.set_xscale(\"log\")\n",
    "ax.set_yscale(\"log\")\n",
    "ax.legend(loc=\"best\")\n",
    "\n",
    "plt.show()"
   ]
  },
  {
   "cell_type": "code",
   "execution_count": null,
   "id": "1d2db2e1",
   "metadata": {},
   "outputs": [],
   "source": []
  }
 ],
 "metadata": {
  "kernelspec": {
   "display_name": "Python 3 (ipykernel)",
   "language": "python",
   "name": "python3"
  },
  "language_info": {
   "codemirror_mode": {
    "name": "ipython",
    "version": 3
   },
   "file_extension": ".py",
   "mimetype": "text/x-python",
   "name": "python",
   "nbconvert_exporter": "python",
   "pygments_lexer": "ipython3",
   "version": "3.7.10"
  }
 },
 "nbformat": 4,
 "nbformat_minor": 5
}

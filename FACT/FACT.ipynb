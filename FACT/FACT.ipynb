{
 "cells": [
  {
   "cell_type": "code",
   "execution_count": null,
   "id": "6d9937e5",
   "metadata": {},
   "outputs": [],
   "source": [
    "from fact.io import read_h5py\n",
    "import numpy as np\n",
    "import pandas as pd\n",
    "import matplotlib.pyplot as plt\n",
    "from scipy.optimize import minimize"
   ]
  },
  {
   "cell_type": "code",
   "execution_count": null,
   "id": "6547fc2e",
   "metadata": {},
   "outputs": [],
   "source": [
    "test = read_h5py(\"data/gamma_test_dl3.hdf5\", key=\"events\")\n",
    "crab = read_h5py(\"data/open_crab_sample_dl3.hdf5\", key=\"events\")\n",
    "\n",
    "gamma_test = test[\"gamma_prediction\"] >= 0.8\n",
    "gamma_crab = crab[\"gamma_prediction\"] >= 0.8\n",
    "\n",
    "theta2_s = crab[\"theta_deg\"][gamma_crab].to_numpy()**2\n",
    "theta2_bg = crab[[\"theta_deg_off_1\",\"theta_deg_off_2\",\"theta_deg_off_3\",\"theta_deg_off_4\",\"theta_deg_off_5\"]][gamma_crab].to_numpy().flatten()**2\n",
    "print(theta2_bg)"
   ]
  },
  {
   "cell_type": "code",
   "execution_count": null,
   "id": "18987f36",
   "metadata": {},
   "outputs": [],
   "source": [
    "hist_s, bins_s = np.histogram(theta2_s[theta2_s<=np.sqrt(0.025)], bins=20)\n",
    "hist_bg, bins_bg = np.histogram(theta2_bg[theta2_bg<=np.sqrt(0.025)], bins=20)\n",
    "print(hist_s)\n",
    "\n",
    "fig, ax = plt.subplots(constrained_layout=True)\n",
    "\n",
    "ax.stairs(hist_s,bins_s)\n",
    "ax.stairs(hist_bg/5,bins_bg)\n",
    "\n",
    "#ax.hist(theta2_s[theta2_s<=0.025], bins=20, histtype=\"step\")\n",
    "#ax.hist(theta2_bg[theta2_bg<=0.025], bins=20, histtype=\"step\")\n",
    "\n",
    "\n",
    "plt.show()"
   ]
  },
  {
   "cell_type": "code",
   "execution_count": null,
   "id": "04eabf51",
   "metadata": {},
   "outputs": [],
   "source": [
    "N_on = len(theta2_s[theta2_s<=np.sqrt(0.025)])\n",
    "N_off = len(theta2_bg[theta2_bg<=np.sqrt(0.025)])\n",
    "print(N_on,N_off)\n",
    "\n",
    "alpha = 0.2\n",
    "\n",
    "S = np.sqrt(2) * np.sqrt(N_on * np.log( (1+alpha)/alpha * N_on/(N_on + N_off)) + N_off * np.log((1+alpha) * N_off/(N_on + N_off)))\n",
    "S"
   ]
  },
  {
   "cell_type": "code",
   "execution_count": null,
   "id": "21bbc0bd",
   "metadata": {},
   "outputs": [],
   "source": [
    "E_true = test[\"corsika_event_header_total_energy\"][gamma_test].to_numpy()\n",
    "E_pred = test[\"gamma_energy_prediction\"][gamma_test].to_numpy()\n",
    "print(len(E_pred),len(E_true)) # show no. of events\n",
    "\n",
    "bins_true=np.logspace(np.log10(600),np.log10(15000),6)\n",
    "bins_pred=np.logspace(np.log10(600),np.log10(15000),11)\n",
    "\n",
    "bins_true = np.append(0,bins_true)\n",
    "bins_true = np.append(bins_true,np.inf)\n",
    "bins_pred = np.append(0,bins_pred)\n",
    "bins_pred = np.append(bins_pred,np.inf)\n",
    "\n",
    "\n",
    "hist_E_true, bins_E_true = np.histogram(E_true, bins_true)\n",
    "hist_E_pred, bins_E_pred = np.histogram(E_pred, bins_pred)\n",
    "\n",
    "print(np.sum(hist_E_pred), np.sum(hist_E_true)) # check if all events are included in the bins\n"
   ]
  },
  {
   "cell_type": "code",
   "execution_count": null,
   "id": "8ad6260e",
   "metadata": {},
   "outputs": [],
   "source": [
    "A, _, _ = np.histogram2d(test[\"gamma_energy_prediction\"][gamma_test], test[\"corsika_event_header_total_energy\"][gamma_test], bins=[bins_pred, bins_true])\n",
    "\n",
    "A = A/np.sum(A,axis=0)\n",
    "print(np.sum(A,axis=0)) # Check if normalized: should all be 1\n",
    "\n",
    "g = A@hist_E_true # Should give the same histogram as hist_E_pred\n",
    "\n",
    "A_inv = np.linalg.pinv(A,rcond=0)\n",
    "\n",
    "f = A_inv@hist_E_pred\n",
    "\n",
    "plt.matshow(A)\n",
    "plt.matshow(A_inv)\n",
    "\n",
    "fig, ax = plt.subplots(constrained_layout=True)\n",
    "\n",
    "ax.stairs(hist_E_true,bins_E_true,label=\"True\")\n",
    "ax.stairs(hist_E_pred,bins_E_pred,label=\"Predicted\")\n",
    "ax.stairs(g,bins_E_pred,linestyle=\"--\",label=\"Forward Folding with calculated A\")\n",
    "ax.stairs(f,bins_E_true,linestyle=\"--\",label=\"Naive SVD Unfolded\")\n",
    "\n",
    "ax.set_xscale(\"log\")\n",
    "ax.legend(loc=\"best\")\n",
    "\n",
    "plt.show()"
   ]
  },
  {
   "cell_type": "code",
   "execution_count": null,
   "id": "0693a2a6",
   "metadata": {},
   "outputs": [],
   "source": [
    "L=[]\n",
    "f=np.empty(len(g))\n",
    "for i in range(len(g)):\n",
    "    L.append(lambda f: -g[i] * np.log(A[i]*f) + A[i]*f)\n",
    "    f[i] = minimize(L[i], hist_E_true[i], method=\"Nelder-Mead\", tol=1e-6)\n",
    "\n",
    "print(f)"
   ]
  },
  {
   "cell_type": "code",
   "execution_count": null,
   "id": "6aad3c31",
   "metadata": {},
   "outputs": [],
   "source": []
  }
 ],
 "metadata": {
  "kernelspec": {
   "display_name": "Python 3 (ipykernel)",
   "language": "python",
   "name": "python3"
  },
  "language_info": {
   "codemirror_mode": {
    "name": "ipython",
    "version": 3
   },
   "file_extension": ".py",
   "mimetype": "text/x-python",
   "name": "python",
   "nbconvert_exporter": "python",
   "pygments_lexer": "ipython3",
   "version": "3.7.10"
  }
 },
 "nbformat": 4,
 "nbformat_minor": 5
}

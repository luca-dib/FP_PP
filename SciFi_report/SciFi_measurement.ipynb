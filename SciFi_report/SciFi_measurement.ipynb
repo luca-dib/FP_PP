{
 "cells": [
  {
   "cell_type": "code",
   "execution_count": null,
   "id": "cf853c8f",
   "metadata": {},
   "outputs": [],
   "source": [
    "import numpy as np\n",
    "import pandas as pd\n",
    "import matplotlib.pyplot as plt \n",
    "import itertools\n",
    "from matplotlib.colors import LogNorm\n",
    "from scipy.stats import binned_statistic\n",
    "from scipy.optimize import curve_fit"
   ]
  },
  {
   "cell_type": "code",
   "execution_count": null,
   "id": "730f6e14",
   "metadata": {},
   "outputs": [],
   "source": [
    "lambda_d0, dc_d0, c_d0 = np.genfromtxt(\"data/measurement/DiBellaFiedlerD0.txt\", unpack=True)\n",
    "lambda_d60, dc_d60, c_d60 = np.genfromtxt(\"data/measurement/DiBellaFiedlerD60.txt\", unpack=True)\n",
    "lambda_l0, dc_l0, c_l0 = np.genfromtxt(\"data/measurement/DiBellaFiedlerL0.txt\", unpack=True)\n",
    "lambda_l60, dc_l60, c_l60 = np.genfromtxt(\"data/measurement/DiBellaFiedlerL60.txt\", unpack=True)"
   ]
  },
  {
   "cell_type": "code",
   "execution_count": null,
   "id": "7561653b",
   "metadata": {},
   "outputs": [],
   "source": [
    "plt.plot(lambda_d0,abs(c_d0-dc_d0))\n",
    "#plt.plot(lambda_d60,abs(c_d60-dc_d60))\n",
    "plt.plot(lambda_l0,abs(c_l0-dc_l0))\n",
    "#plt.plot(lambda_l60,abs(c_l60-dc_l60))\n"
   ]
  },
  {
   "cell_type": "code",
   "execution_count": null,
   "id": "9a9067be",
   "metadata": {},
   "outputs": [],
   "source": [
    "h_deg = np.arange(-20,101,11)\n",
    "v_deg = np.arange(-6,90,12)\n",
    "single = np.array([[\"C1_dc_h90_v90\"],[\"C1_att_h90_v90\"]])\n",
    "\n",
    "df_dc = pd.read_csv(f\"data/measurement/DiBellaFiedlerRadial/DarkCounts_h=2deg_v=6deg.txt\", sep=\"\\t\", header=0, usecols=[0],  names=[\"lambda\"])\n",
    "df_att = pd.read_csv(f\"data/measurement/DiBellaFiedlerRadial/Attenuation_h=2deg_v=6deg_x=0mm.txt\", sep=\"\\t\", header=0, usecols=[0] ,  names=[\"lambda\"])\n",
    "\n",
    "for i,j in itertools.product(h_deg,v_deg):\n",
    "    cols_dc = [f\"C1_dc_h{i}_v{j}\"]\n",
    "    cols_att = [f\"C1_att_h{i}_v{j}\"]\n",
    "    \n",
    "    df_dc[cols_dc] = pd.read_csv(f\"data/measurement/DiBellaFiedlerRadial/DarkCounts_h={i}deg_v={j}deg.txt\", sep=\"\\t\", header=0, usecols=[1],  names=cols_dc)\n",
    "    df_att[cols_att] = pd.read_csv(f\"data/measurement/DiBellaFiedlerRadial/Attenuation_h={i}deg_v={j}deg_x=0mm.txt\", sep=\"\\t\", header=0, usecols=[1] ,  names=cols_att)\n",
    "\n",
    "df_dc[single[0]] = pd.read_csv(f\"data/measurement/DiBellaFiedlerRadial/DarkCounts_h=90deg_v=90deg.txt\", sep=\"\\t\", header=0, names=single[0], usecols=[1])\n",
    "#df_att[single[1]] = pd.read_csv(f\"data/measurement/DiBellaFiedlerRadial/Attenuation_h=90deg_v=90deg_x=0mm.txt\", sep=\"\\t\", header=0 ,names=single[1], usecols=[1])\n",
    "\n",
    "df_att.loc[750]\n"
   ]
  },
  {
   "cell_type": "code",
   "execution_count": null,
   "id": "ab36751e",
   "metadata": {},
   "outputs": [],
   "source": [
    "x= abs(df_att.sum(axis=0).to_numpy() - df_dc.sum(axis=0).to_numpy()[1:])\n",
    "\n",
    "a = abs(df_att.loc[750].to_numpy() - df_dc.loc[750].to_numpy()[:-1])\n",
    "a = a[1:].reshape((len(v_deg),len(h_deg)))\n",
    "x = x[1:].reshape((len(v_deg),len(h_deg)))\n",
    "\n",
    "plt.matshow(a,extent=(-20,90,78,-6))\n",
    "plt.colorbar()"
   ]
  },
  {
   "cell_type": "code",
   "execution_count": null,
   "id": "133e1dfd",
   "metadata": {},
   "outputs": [],
   "source": [
    "linplt = np.linspace(-90,90,200)\n",
    "gauss = lambda x,a,mu,sigma,c: a/np.sqrt(2*np.pi*sigma**2) * np.exp(-(x-mu)**2/sigma**2) + c\n",
    "\n",
    "gauss_par, gauss_cov = curve_fit(gauss,v_deg,a.sum(axis=1),p0=[500,0,20,20],sigma=None,absolute_sigma=False)\n",
    "\n",
    "plt.plot(h_deg,a.sum(axis=0))#,\"x\")\n",
    "#plt.plot(linplt,gauss(linplt,*gauss_par))\n",
    "\n",
    "gauss_par\n",
    "\n",
    "#plt.ylim((0,180))"
   ]
  },
  {
   "cell_type": "code",
   "execution_count": null,
   "id": "4a23b3a6",
   "metadata": {},
   "outputs": [],
   "source": [
    "lambda_s = df_att[\"lambda\"].to_numpy()\n",
    "b = df_att[\"C1_att_h2_v30\"].to_numpy() - df_dc[\"C1_dc_h2_v30\"].to_numpy()\n",
    "plt.plot(lambda_s,b)"
   ]
  },
  {
   "cell_type": "code",
   "execution_count": null,
   "id": "02e5d8f6",
   "metadata": {},
   "outputs": [],
   "source": []
  }
 ],
 "metadata": {
  "kernelspec": {
   "display_name": "Python 3 (ipykernel)",
   "language": "python",
   "name": "python3"
  },
  "language_info": {
   "codemirror_mode": {
    "name": "ipython",
    "version": 3
   },
   "file_extension": ".py",
   "mimetype": "text/x-python",
   "name": "python",
   "nbconvert_exporter": "python",
   "pygments_lexer": "ipython3",
   "version": "3.7.10"
  }
 },
 "nbformat": 4,
 "nbformat_minor": 5
}
